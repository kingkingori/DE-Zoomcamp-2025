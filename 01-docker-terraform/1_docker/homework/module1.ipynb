{
 "cells": [
  {
   "cell_type": "code",
   "execution_count": 4,
   "metadata": {},
   "outputs": [],
   "source": [
    "# import libraries\n",
    "\n",
    "import requests\n",
    "import io\n",
    "import pandas as pd\n",
    "\n",
    "import sqlalchemy, psycopg2\n",
    "from sqlalchemy.types import FLOAT, TEXT, TIMESTAMP, BIGINT\n",
    "\n",
    "from time import time"
   ]
  },
  {
   "cell_type": "code",
   "execution_count": 5,
   "metadata": {},
   "outputs": [
    {
     "name": "stderr",
     "output_type": "stream",
     "text": [
      "C:\\Users\\kingo\\AppData\\Local\\Temp\\ipykernel_7756\\1753935676.py:5: DtypeWarning: Columns (3) have mixed types. Specify dtype option on import or set low_memory=False.\n",
      "  green_trip_df = pd.read_csv(io.BytesIO(requests.get(green_trip_url).content), compression='gzip')\n"
     ]
    }
   ],
   "source": [
    "# download data and load as DataFrames\n",
    "\n",
    "green_trip_url = \"https://github.com/DataTalksClub/nyc-tlc-data/releases/download/green/green_tripdata_2019-10.csv.gz\"\n",
    "# returns a compressed file, so include that in 'read_csv'\n",
    "green_trip_df = pd.read_csv(io.BytesIO(requests.get(green_trip_url).content), compression='gzip')\n",
    "\n",
    "zone_lookup_url = \"https://github.com/DataTalksClub/nyc-tlc-data/releases/download/misc/taxi_zone_lookup.csv\"\n",
    "zone_lookup_df = pd.read_csv(io.StringIO(requests.get(zone_lookup_url).content.decode('utf-8')))"
   ]
  },
  {
   "cell_type": "code",
   "execution_count": 29,
   "metadata": {},
   "outputs": [],
   "source": [
    "# establish connection to DB\n",
    "\n",
    "user = 'postgres'\n",
    "password = 'postgres'\n",
    "host = 'localhost'\n",
    "database = 'ny_taxi'\n",
    "port = 5433\n",
    "\n",
    "engine = sqlalchemy.create_engine(f\"postgresql://{user}:{password}@{host}:{port}/{database}\")"
   ]
  },
  {
   "cell_type": "code",
   "execution_count": 4,
   "metadata": {},
   "outputs": [],
   "source": [
    "# use schema to determine column datatypes for db table\n",
    "# print(pd.io.sql.get_schema(frame=green_trip_df, name=\"green_taxi\", con=engine))"
   ]
  },
  {
   "cell_type": "code",
   "execution_count": 42,
   "metadata": {},
   "outputs": [
    {
     "name": "stdout",
     "output_type": "stream",
     "text": [
      "Time taken: 143.71\n"
     ]
    }
   ],
   "source": [
    "# create table with column names as in dataframe\n",
    "green_trip_df.head(0).to_sql(name=\"green_taxi\", con=engine, if_exists='replace')\n",
    "\n",
    "green_trip_df.lpep_pickup_datetime = pd.to_datetime(green_trip_df.lpep_pickup_datetime)\n",
    "green_trip_df.lpep_dropoff_datetime = pd.to_datetime(green_trip_df.lpep_dropoff_datetime)\n",
    "\n",
    "started = time()\n",
    "\n",
    "# load table with data from dataframe\n",
    "green_trip_df.to_sql(\n",
    "    name=\"green_taxi\", con=engine, if_exists='append', chunksize=10000,\n",
    "    dtype={\n",
    "        \"VendorID\": FLOAT(53),\n",
    "        \"lpep_pickup_datetime\": TIMESTAMP,\n",
    "        \"lpep_dropoff_datetime\": TIMESTAMP,\n",
    "        \"store_and_fwd_flag\": TEXT,\n",
    "        \"RatecodeID\": FLOAT(53),\n",
    "        \"PULocationID\": BIGINT,\n",
    "        \"DOLocationID\": BIGINT,\n",
    "        \"passenger_count\": FLOAT(53),\n",
    "        \"trip_distance\": FLOAT(53),\n",
    "        \"fare_amount\": FLOAT(53),\n",
    "        \"extra\": FLOAT(53),\n",
    "        \"mta_tax\": FLOAT(53),\n",
    "        \"tip_amount\": FLOAT(53),\n",
    "        \"tolls_amount\": FLOAT(53),\n",
    "        \"ehail_fee\": FLOAT(53),\n",
    "        \"improvement_surcharge\": FLOAT(53),\n",
    "        \"total_amount\": FLOAT(53),\n",
    "        \"payment_type\": FLOAT(53),\n",
    "        \"trip_type\": FLOAT(53),\n",
    "        \"congestion_surcharge\": FLOAT(53)\n",
    "    }\n",
    ")\n",
    "\n",
    "finished = time()\n",
    "\n",
    "print(f\"Time taken: {(finished-started):.2f}\")"
   ]
  },
  {
   "cell_type": "code",
   "execution_count": 15,
   "metadata": {},
   "outputs": [
    {
     "name": "stdout",
     "output_type": "stream",
     "text": [
      "Chunking consumes 3411.22 kbs of memory per 10000 rows.\n"
     ]
    }
   ],
   "source": [
    "mem_per_row = green_trip_df.memory_usage(index=True, deep=True).sum() / green_trip_df.shape[0]\n",
    "chunk_size = 10000\n",
    "\n",
    "print(f\"Chunking consumes {((mem_per_row*chunk_size)/1000):.2f} kbs of memory per {chunk_size} rows.\")"
   ]
  },
  {
   "cell_type": "code",
   "execution_count": 33,
   "metadata": {},
   "outputs": [
    {
     "data": {
      "text/plain": [
       "265"
      ]
     },
     "execution_count": 33,
     "metadata": {},
     "output_type": "execute_result"
    }
   ],
   "source": [
    "# load lookup data in one-go since rows are few\n",
    "# create table with column names as in dataframe\n",
    "zone_lookup_df.head(0).to_sql(name=\"lookup_table\", con=engine, if_exists='replace')\n",
    "\n",
    "# load table with data from dataframe\n",
    "zone_lookup_df.to_sql(name=\"lookup_table\", con=engine, if_exists='append')"
   ]
  }
 ],
 "metadata": {
  "kernelspec": {
   "display_name": "Python 3",
   "language": "python",
   "name": "python3"
  },
  "language_info": {
   "codemirror_mode": {
    "name": "ipython",
    "version": 3
   },
   "file_extension": ".py",
   "mimetype": "text/x-python",
   "name": "python",
   "nbconvert_exporter": "python",
   "pygments_lexer": "ipython3",
   "version": "3.10.0"
  }
 },
 "nbformat": 4,
 "nbformat_minor": 2
}
